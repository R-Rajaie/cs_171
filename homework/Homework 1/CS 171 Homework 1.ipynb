{
 "cells": [
  {
   "cell_type": "markdown",
   "id": "8c4deb0d-1d67-4601-b5a7-9ef56c93c2b4",
   "metadata": {},
   "source": [
    "# CS 171 Homework 1\n",
    "\n",
    "In this homework assignment, you will use the concepts of linear regression introduced in class to fit a curve to a data set.\n",
    "\n",
    "**Import the modules for this notebook**"
   ]
  },
  {
   "cell_type": "code",
   "execution_count": null,
   "id": "ac4eabf5-c68a-4b26-9e92-6da01504f9f5",
   "metadata": {},
   "outputs": [],
   "source": [
    "import pandas as pd\n",
    "import numpy as np\n",
    "import matplotlib.pyplot as plt"
   ]
  },
  {
   "cell_type": "markdown",
   "id": "ea9d25c8-6cf2-406b-8244-af767d77baa0",
   "metadata": {},
   "source": [
    "In the western United States, rockfish are an important species. Each year, fish trawls are conducted to assess the length, age, and maturity of different species of rockfish.\n",
    "The data can be read in as follows:"
   ]
  },
  {
   "cell_type": "code",
   "execution_count": null,
   "id": "f702fe81-3bbf-4fa1-a4dc-02d3c4946b74",
   "metadata": {},
   "outputs": [],
   "source": [
    "df = pd.read_csv('rockfish_data.csv')"
   ]
  },
  {
   "cell_type": "markdown",
   "id": "c8049858-176b-4262-abc5-1cfeadc19424",
   "metadata": {},
   "source": [
    "We can take a look at the first few rows of the data frame as follows:"
   ]
  },
  {
   "cell_type": "code",
   "execution_count": null,
   "id": "76e184c2-49fd-4a16-98c8-27550f81c376",
   "metadata": {},
   "outputs": [],
   "source": [
    "df.head()"
   ]
  },
  {
   "cell_type": "markdown",
   "id": "7d463692-7d7a-4d55-bdb2-d1b72fee986a",
   "metadata": {},
   "source": [
    "As we can see, this data set contains the lengths and ages of rockfish caught in trawl surveys.\n",
    "\n",
    "**The Problem**\n",
    "\n",
    "A representative from the National Oceanic and Atmospheric Association's Fisheries Center has come to you to determine length limits for rock fish - the small length a fish needs to be to safely remove it from the ocean. Biologists indicate that rockfish less than 20 years old should not be removed from the ocean in order to maintain the fishery stocks. They would like you to look into the data to determine the approximate length for a 20-year-old rock fish."
   ]
  },
  {
   "cell_type": "markdown",
   "id": "f278171d-10dd-463c-8b33-f3b754f77a11",
   "metadata": {},
   "source": [
    "From a review of the literature, you find that some studies estimate the age of rockfish based on the following formula:\n",
    "\n",
    "$$\n",
    "A(l) = a_0 + a_1 (l - 30)^2\n",
    "$$\n",
    "\n",
    "In this formula, $A$ is the age of the fish, $l$ is its length, $a_0$ is a constant that represents the age of fish with a length of 30 cm, and $a_1$ is a quadratic growth coefficient that describes how the fish's age scales with its length. We can represent this model in the following formula:"
   ]
  },
  {
   "cell_type": "code",
   "execution_count": null,
   "id": "dacdba9d-1c53-49c6-bada-954b7e864582",
   "metadata": {},
   "outputs": [],
   "source": [
    "def age_model(length_data, a_0, a_1):\n",
    "    model = a_0 + a_1*(length_data-30)**2\n",
    "    return(model)"
   ]
  },
  {
   "cell_type": "markdown",
   "id": "a2a0e197-a26e-4c23-bd42-12b950c10201",
   "metadata": {},
   "source": [
    "## Problem 1.1\n",
    "To get familiar with the data, begin by making a plot of the raw data. In addition, formulate an initial guess for the coefficients $a_0$ and $a_1$ and plot them on the graph along with the data."
   ]
  },
  {
   "cell_type": "code",
   "execution_count": null,
   "id": "3209dca5-6204-46bc-a09f-3def15f815c4",
   "metadata": {},
   "outputs": [],
   "source": [
    "# estimate the coefficients a_0 and a_1\n",
    "# hint: it may help to generate the plot of the raw data below\n",
    "#       and then return to this cell to estimate the coefficients\n",
    "a_0 =  # enter your first guess here\n",
    "a_1 =  # enter your first guess here"
   ]
  },
  {
   "cell_type": "code",
   "execution_count": null,
   "id": "e7b0c843-86c6-4b8a-bcd9-6905fc46081f",
   "metadata": {},
   "outputs": [],
   "source": [
    "# make a figure object\n",
    "fig = plt.figure(figsize=(10,4))\n",
    "\n",
    "# plot the raw data \n",
    "plt.plot(df['length'], df['age'], 'k.', label='Raw Data')\n",
    "\n",
    "# plt the model curve with your guess for the coefficient\n",
    "# uncomment after providing your first guess for a_0 and a_1 in the previous cell\n",
    "#plt.plot(df['length'], age_model(df['length'], a_0, a_1), label='Model')\n",
    "\n",
    "# format the axes and show the plot\n",
    "plt.xlabel('Length (cm)')\n",
    "plt.ylabel('Age (years)')\n",
    "plt.legend()\n",
    "plt.show()"
   ]
  },
  {
   "cell_type": "markdown",
   "id": "aa1cba48-86c0-49e9-bb5d-14e0005da5f4",
   "metadata": {},
   "source": [
    "## Problem 1.2\n",
    "\n",
    "In order to formulate an algorithm to derive the coefficients $a_0$ and $a_1$, we're going to need a loss function and a way to minimize it. The Mean Square Error (MSE) loss function is suitable for this example and is given by\n",
    "\n",
    "$$\n",
    "\\mathcal{L} = \\frac{1}{N} \\sum_{i=1}^N (A_{data} - A_{model})^2 = \\frac{1}{N} \\sum_{i=1}^N (A_{data} - (a_0 + a_1 (l - 30)^2))^2\n",
    "$$\n",
    "\n",
    "This can be written into a Python function as follows:"
   ]
  },
  {
   "cell_type": "code",
   "execution_count": null,
   "id": "38309a55-912e-4060-b01f-19cecfac8607",
   "metadata": {},
   "outputs": [],
   "source": [
    "def mean_square_error(length_data, age_data, a_0, a_1):\n",
    "    N = len(age_data)\n",
    "    error = (1/N)*np.sum((age_data - age_model(length_data, a_0, a_1))**2)\n",
    "    return(error)"
   ]
  },
  {
   "cell_type": "markdown",
   "id": "7e72906e-3dbf-4f4d-83ea-f1a559367466",
   "metadata": {},
   "source": [
    "Derive the gradients of the loss function with respect to $a_0$ and $a_1$. "
   ]
  },
  {
   "cell_type": "code",
   "execution_count": null,
   "id": "fad4ffad-8006-4bd5-83d1-837ee79d1d67",
   "metadata": {},
   "outputs": [],
   "source": [
    "# change this cell to a markdown cell and edit with your formulas\n",
    "# if you prefer, you can write your equations on paper and turn them in on Canvas as a picture\n",
    "# in this case, be sure to write \"I'm turning this in on Canvas\" in this cell"
   ]
  },
  {
   "cell_type": "markdown",
   "id": "7fde3aa0-1f0b-48b2-8d31-36dc03c2a24a",
   "metadata": {},
   "source": [
    "Next, write a `loss_gradient_function` to compute the gradients in your equations. The function should take in the arguments `length_data`, `age_data`, `a_0`, `a_1` and return an array of length 2 with the gradients."
   ]
  },
  {
   "cell_type": "code",
   "execution_count": null,
   "id": "ffc06540-04f6-4ab1-bc91-e0e7aa8f96ac",
   "metadata": {},
   "outputs": [],
   "source": [
    "# enter your function here"
   ]
  },
  {
   "cell_type": "markdown",
   "id": "06de9a1e-38be-4698-93bc-bfbb40c38ebe",
   "metadata": {},
   "source": [
    "## Problem 1.3\n",
    "\n",
    "Implement a Python class called `RockfishSolver` that can be used to solve for the coefficients $a_0$ and $a_1$. The class should have an `__init__` function that takes in an initial guess for `a_0` and `a_1`, a learning rate, and an iteration count. The class should also have a `fit` function that takes in the length and age data, and iterates to solve for the coefficients $a_0$ and $a_1$ that yeild the lowest errors. The `fit` function should also keep track of the errors for each iteration."
   ]
  },
  {
   "cell_type": "code",
   "execution_count": null,
   "id": "8a1b9b3f-96d8-4528-9cd6-afe150cd1f57",
   "metadata": {},
   "outputs": [],
   "source": [
    "# define your RockfishSolver class here"
   ]
  },
  {
   "cell_type": "markdown",
   "id": "22f6283b-0439-4def-9712-8062f11be8df",
   "metadata": {},
   "source": [
    "## Problem 1.4\n",
    "\n",
    "Use your Python class to solve for the coefficients given your initial guess.\n",
    "\n",
    "Note: this problem is sensitive to the learning rate parameter. If your solution is \"blowing up\", then you may need to reduce your learning rate."
   ]
  },
  {
   "cell_type": "code",
   "execution_count": null,
   "id": "a5872feb-60f7-42cf-9b60-1984610f46bc",
   "metadata": {},
   "outputs": [],
   "source": [
    "# define the parameters for the Python class\n",
    "a_0 = \n",
    "a_1 = \n",
    "eta = \n",
    "n_iterations = \n",
    "\n",
    "# initiate the object\n",
    "rs = RockfishSolver(a_0, a_1, eta, n_iterations)\n",
    "\n",
    "# call the fit function on the object to solve for the coefficients\n",
    "rs.fit(df['length'], df['age'])"
   ]
  },
  {
   "cell_type": "markdown",
   "id": "b1a6da76-c7b8-4675-a1bf-9627ceceed0e",
   "metadata": {},
   "source": [
    "Print out the coefficients solved for by your class:"
   ]
  },
  {
   "cell_type": "code",
   "execution_count": null,
   "id": "3ded6d17-d389-4ea3-b34b-355072272020",
   "metadata": {},
   "outputs": [],
   "source": []
  },
  {
   "cell_type": "markdown",
   "id": "91202882-1489-4377-b9cf-da8f8c2f6bb1",
   "metadata": {},
   "source": [
    "Repeat the plot you made above, but plot your model with your solved coefficients for $a_0$ and $a_1$."
   ]
  },
  {
   "cell_type": "code",
   "execution_count": null,
   "id": "cc88fae4-36df-4ddf-8c71-0cc43e407ae6",
   "metadata": {},
   "outputs": [],
   "source": [
    "# make your plot here"
   ]
  },
  {
   "cell_type": "markdown",
   "id": "8bc6913c-345d-4c54-9c5d-544a0de8a7c4",
   "metadata": {},
   "source": [
    "## Problem 1.5\n",
    "In your class above, your fit function should have kept track of your model errors for each iteration. Make a plot of your errors as a function of iteration number."
   ]
  },
  {
   "cell_type": "code",
   "execution_count": null,
   "id": "6a0aa04c-789c-4690-80f3-c27bd3ca1630",
   "metadata": {},
   "outputs": [],
   "source": [
    "# make your plot here"
   ]
  },
  {
   "cell_type": "markdown",
   "id": "2dd94a82-d0ad-41b9-8ed8-2aa9dcf5ce3e",
   "metadata": {},
   "source": [
    "Comment on the overall performance of the model and the errors. Does it seem that your model has converged, giving you the best estimate of the coefficients? If not, modify your code so that the model produces a better fit."
   ]
  },
  {
   "cell_type": "code",
   "execution_count": null,
   "id": "5f353f26-ea70-4b15-8152-63abb4126f6c",
   "metadata": {},
   "outputs": [],
   "source": [
    "# change the cell to a markdown cell and enter your response here in 2-3 sentences"
   ]
  },
  {
   "cell_type": "markdown",
   "id": "73adff77-9fdb-4d72-aafe-276cad6ee346",
   "metadata": {},
   "source": [
    "## Problem 1.6\n",
    "\n",
    "Using your optimized coefficients, estimate the length of a rockfish that is 20 years old to provide a length limit for fishing rockfish to NOAA's Fishery Center."
   ]
  },
  {
   "cell_type": "code",
   "execution_count": null,
   "id": "72613708-4f9a-4abb-929b-af46d9e91417",
   "metadata": {},
   "outputs": [],
   "source": [
    "# estimate the length of a 20 year old fish from your model"
   ]
  }
 ],
 "metadata": {
  "kernelspec": {
   "display_name": "cs171",
   "language": "python",
   "name": "cs171"
  },
  "language_info": {
   "codemirror_mode": {
    "name": "ipython",
    "version": 3
   },
   "file_extension": ".py",
   "mimetype": "text/x-python",
   "name": "python",
   "nbconvert_exporter": "python",
   "pygments_lexer": "ipython3",
   "version": "3.12.10"
  }
 },
 "nbformat": 4,
 "nbformat_minor": 5
}
