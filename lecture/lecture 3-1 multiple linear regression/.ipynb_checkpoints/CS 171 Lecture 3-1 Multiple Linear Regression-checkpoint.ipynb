{
 "cells": [
  {
   "cell_type": "markdown",
   "id": "aa78574b-d9db-4449-b800-0aa9b1460993",
   "metadata": {},
   "source": [
    "# Multiple Linear Regression\n",
    "In this notebook, we will expand on our discussion of linear regression to consider more independent variables in our models.\n",
    "\n",
    "**Learning Objectives**\n",
    "\n",
    "1. Add additional features to the linear regression problem to formulate a multiple linear regression problem.\n",
    "2. Normalize features of different magnitudes to provide a more robust fit to data.\n",
    "3. Apply linear regression models to different problems that estimate an output variable as a linear combination of input features.\n",
    "\n",
    "**Import modules**\n",
    "Begin by importing the modules to be used in this notebook"
   ]
  },
  {
   "cell_type": "code",
   "execution_count": 1,
   "id": "8dc5b778-fdba-4ce4-b322-aa326262b7c8",
   "metadata": {},
   "outputs": [],
   "source": [
    "import numpy as np\n",
    "import matplotlib.pyplot as plt\n",
    "import  pandas as pd"
   ]
  },
  {
   "cell_type": "markdown",
   "id": "ce832e46-efcc-40f8-b205-f42d0206263c",
   "metadata": {},
   "source": [
    "In our previous notebook, we saw how we could fit a linear line to some data using an iterative approach. We took a look at an example of carbon dioxide concentrations as measured at the Mauna Loa observatory. Let's revisit this example here.\n",
    "\n",
    "## Expanding on Simple Linear Regression\n",
    "\n",
    "To begin, let's read in the data..."
   ]
  },
  {
   "cell_type": "code",
   "execution_count": 2,
   "id": "655ab140",
   "metadata": {},
   "outputs": [],
   "source": [
    "# read in the dataset as shown in the previous notebook\n",
    "df = pd.read_csv('monthly_in_situ_co2_mlo.csv', skiprows=64)\n",
    "df = df[df.iloc[:, 4] >0]\n",
    "\n",
    "# subset to a given time range\n",
    "df_subset = df[(df.iloc[:,3]>=2010) & (df.iloc[:,3]<=2020)]\n",
    "\n",
    "# redefine x and y\n",
    "x = np.array(df_subset.iloc[:,3])\n",
    "y = np.array(df_subset.iloc[:,4])\n",
    "\n",
    "# remove the first value of y\n",
    "x = x-2010\n",
    "y = y-y[0]"
   ]
  },
  {
   "cell_type": "markdown",
   "id": "705adcd4",
   "metadata": {},
   "source": [
    "... and recreate the plot"
   ]
  },
  {
   "cell_type": "code",
   "execution_count": 3,
   "id": "414cf6c7",
   "metadata": {},
   "outputs": [
    {
     "data": {
      "image/png": "[encoded data removed]",
      "text/plain": [
       "<Figure size 800x400 with 1 Axes>"
      ]
     },
     "metadata": {},
     "output_type": "display_data"
    }
   ],
   "source": [
    "plt.figure(figsize=(8,4))\n",
    "plt.plot(x,y,'k.')\n",
    "plt.xlabel('x (years since 2010)')\n",
    "plt.ylabel('y (CO$_2$ concentration relative to 2010, ppm)')\n",
    "plt.show()"
   ]
  },
  {
   "cell_type": "markdown",
   "id": "47cf5fb9",
   "metadata": {},
   "source": [
    "In our previous example, the question we were trying to answer was: *how much is the atmospheric concentration of CO$_2$ increasing each year*?\n",
    "\n",
    "However, in looking at the data, we also see that the is a strong seasonal cycle. By eye, it looks like the magnitude of this cycling is something on the range of 2-4 ppm - that is, the concentration increases through the northwern hemisphere fall and winter and then decreases through spring and summer. We completely ignored this in our initial model but with a few small tweaks to the model, we can quantify *both* the trend and the amplitude of the seasonal cycle. Let's take a look."
   ]
  },
  {
   "cell_type": "markdown",
   "id": "dc5cada4",
   "metadata": {},
   "source": [
    "We formulated out previous model in terms of a weight and a vias, and we combined the these constants together into a line with the equation\n",
    "\n",
    "$$\n",
    "\\hat{y} = wx + b\n",
    "$$\n",
    "\n",
    "where, as a reminder, the \"hat\" symbol above the $y$ indicates it is a model estimate of a true value $y$. Here, we may consider a new model where the model estimate is not only a function of the trend, but also the seasonal cycle as follows:\n",
    "\n",
    "$$\n",
    "\\hat{y} = w_1 x + w_2 \\sin(2\\pi x) + b\n",
    "$$\n",
    "\n",
    "where the $sin(2\\pi x)$ is the seasonal cycle term and $w_2$ is its amplitude. In this example, we now have 2 weights $w_1$ and $w_2$ instead of just the single weight $w$. By solving for these coefficients, we can answer the question: *how much is the atmospheric concentration of CO$_2$ increasing each year and what is the annual variability of its range?*\n",
    "\n",
    "For simplicity in notation, I will define $x_1 = x$ and $x_2 = \\sin(2\\pi x)$ so that the model can be written as\n",
    "\n",
    "$$\n",
    "\\hat{y} = w_1 x_1 + w_2 x_2 + b\n",
    "$$\n",
    "\n",
    "It's important to note here that, in this example, $x_1$ and $x_2$ are both function of the independent variable $x$. However, all of the derivation below holds equally well for two independent variables $x_1$ and $x_2$.\n"
   ]
  },
  {
   "cell_type": "markdown",
   "id": "ad3861b1-c0a1-488f-9a2c-9aad7ddd4053",
   "metadata": {},
   "source": [
    "\n",
    "Just as before, we can consider the application of our model to the set of $N$ input data values, which we can organize in a vector format as follows:\n",
    "\n",
    "$$\n",
    "\\begin{bmatrix} y_1 \\\\ y_2 \\\\ \\vdots \\\\ y_N \\end{bmatrix} = w_1 \\begin{bmatrix} x_{1,1} \\\\ x_{1,2} \\\\ \\vdots \\\\ x_{1,N} \\end{bmatrix} + w_2 \\begin{bmatrix} x_{2,1} \\\\ x_{2,2} \\\\ \\vdots \\\\ x_{2,N} \\end{bmatrix} + b\\begin{bmatrix} 1 \\\\ 1 \\\\ \\vdots \\\\ 1 \\end{bmatrix}\\\\\n",
    "$$\n",
    "\n",
    "With a little rearranging, we notice that we can actually write this the same we did before in matrix form:\n",
    "\n",
    "$$\n",
    "\\hat{\\textbf{y}} = \\begin{bmatrix} y_1 \\\\ y_2 \\\\ \\vdots \\\\ y_N \\end{bmatrix} = w_1 \\begin{bmatrix} x_{1,1} \\\\ x_{1,2} \\\\ \\vdots \\\\ x_{1,N} \\end{bmatrix} + w_2 \\begin{bmatrix} x_{2,1} \\\\ x_{2,2} \\\\ \\vdots \\\\ x_{2,N} \\end{bmatrix} +  b\\begin{bmatrix} 1 \\\\ 1 \\\\ \\vdots \\\\ 1 \\end{bmatrix} = \\begin{bmatrix} 1 & x_{1,1} & x_{2,1}\\\\ 1 & x_{1,2} & x_{2,2}\\\\ \\vdots & \\vdots\\\\ 1 & x_{1,N} & x_{2,N}\\end{bmatrix} \\cdot \\begin{bmatrix} b \\\\ w_1 \\\\ w_2 \\end{bmatrix} = \\textbf{X} \\cdot \\textbf{w}\n",
    "$$\n",
    "\n",
    "where here we have defined a matrix **X** which has a column of ones corresponding to the bias value $b$, another column with the input features corresponding to $w_1$, and another column correspodning to $w_2$. Just as before, our model is simply denoted as\n",
    "\n",
    "$$\n",
    "\\hat{\\textbf{y}} = \\textbf{X} \\cdot \\textbf{w}\n",
    "$$\n",
    "\n",
    "It is important to note that this formulation provides us with a generalized recipe for creating linear models. For any number of independent components of our model - here we investigate the slope and the seasonal cycle - we just need to formulate the matrix **X** and solve as before. Since this matrix is the foundation of the model design, it is sometimes called the *design matrix*."
   ]
  },
  {
   "cell_type": "markdown",
   "id": "2bc16d4d-85da-41b0-9f3c-6b0dff1137ea",
   "metadata": {},
   "source": [
    "### Training the Model\n",
    "As in the previous example, once we have our predicted values, we can compare with our target values to determine our error using the *Mean Square Error* loss function:\n",
    "\n",
    "$$\n",
    "L =\\frac{1}{N} \\sum_{i=1}^N (y_i - \\hat{y}_i)^2\n",
    "$$\n",
    "\n",
    "Our model training is the same as before, but now with one extra term for the additional weight:\n",
    "\n",
    "$$\n",
    "\\begin{align*}\n",
    "\\frac{\\partial L}{\\partial b} & = \\frac{-2}{N} \\sum_{i=1}^N (y_i - \\hat{y}_i)\\\\\n",
    "\\frac{\\partial L}{\\partial w_1} & = \\frac{-2}{N} \\sum_{i=1}^N (y_i - \\hat{y}_i)x_{1,i}\\\\\n",
    "\\frac{\\partial L}{\\partial w_2} & = \\frac{-2}{N} \\sum_{i=1}^N (y_i - \\hat{y}_i)x_{2,i}\n",
    "\\end{align*}\n",
    "$$\n",
    "\n",
    "And, if we rewrite everything in vector notation, we see that \n",
    "\n",
    "$$\n",
    "\\begin{align*}\n",
    "\\frac{\\partial L}{\\partial \\textbf{w}} &= \\begin{bmatrix} \\frac{\\partial L}{\\partial b} & \\frac{\\partial L}{\\partial w_1} & \\frac{\\partial L}{\\partial w_2}\\end{bmatrix} \\\\\n",
    "&= \\frac{-2}{N}  \\begin{bmatrix} \\sum_{i=1}^N (y_i - \\hat{y}_i) & \\sum_{i=1}^N (y_i - \\hat{y}_i)x_{1,i} & \\sum_{i=1}^N (y_i - \\hat{y}_i)x_{2,i}\\end{bmatrix} \\\\\n",
    "&= \\frac{-2}{N} \\begin{bmatrix} (y_1 - \\hat{y}_1) (y_2 - \\hat{y}_2) \\cdots (y_N - \\hat{y}_N) \\end{bmatrix} \\cdot \\begin{bmatrix} 1 & x_{1,1} & x_{2,1}\\\\ 1 & x_{1,2} & x_{2,2}\\\\ \\vdots & \\vdots\\\\ 1 & x_{1,N} & x_{2,N}\\end{bmatrix}\\\\\n",
    "&= \\frac{-2}{N} (\\textbf{y} - \\hat{\\textbf{y}})^T \\cdot \\textbf{X}\n",
    "\\end{align*}\n",
    "$$\n",
    "\n",
    "i.e.\n",
    "\n",
    "$$\n",
    "\\frac{\\partial L}{\\partial \\textbf{w}} = \\frac{-2}{N} (\\textbf{y} - \\hat{\\textbf{y}})^T \\cdot \\textbf{X}\n",
    "$$\n",
    "\n",
    "Hey! We also see that this is the exact same thing we used in our one-dimensional case - which means that all of the code we wrote before will work perfect will for our new sample as long as we write our design matrix correctly!\n"
   ]
  },
  {
   "cell_type": "markdown",
   "id": "4ea66431-df40-4e50-956d-369cfd53aa58",
   "metadata": {},
   "source": [
    "## (Re)Defining a Linear Regression Python Class\n",
    "\n",
    "Here, we use the same code as in the previous notebook:"
   ]
  },
  {
   "cell_type": "code",
   "execution_count": 19,
   "id": "a8f3a91b-d776-4b53-8fdc-8ccf3a976c05",
   "metadata": {},
   "outputs": [],
   "source": [
    "class LinearRegression:\n",
    "    \"\"\"\n",
    "    Linear regression model for predicting continuous outputs.\n",
    "    \"\"\"\n",
    "\n",
    "    def __init__(self, X, learning_rate, n_iterations, random_seed=1):\n",
    "        \"\"\"\n",
    "        Initializes the LinearRegression model and its parameters.\n",
    "\n",
    "        Parameters\n",
    "        ----------\n",
    "        X : np.ndarray\n",
    "            Input feature matrix used to determine the number of weights.\n",
    "        learning_rate : float\n",
    "            Learning rate for gradient descent.\n",
    "        n_iterations : int\n",
    "            Number of iterations for training.\n",
    "        random_seed : int, optional\n",
    "            Random seed for reproducibility (default is 1).\n",
    "        \"\"\"\n",
    "        self.learning_rate = learning_rate\n",
    "        self.n_iterations = n_iterations\n",
    "        self.random_seed = random_seed\n",
    "        self.initialize(X) \n",
    "\n",
    "    def initialize(self, X):\n",
    "        \"\"\"\n",
    "        Initializes the weight vector with small random values.\n",
    "        \"\"\"\n",
    "        np.random.seed(self.random_seed)\n",
    "        self.w = np.random.normal(loc = 0.0, scale = 0.01, size = np.shape(X)[1])\n",
    "    \n",
    "    def forward(self, X):\n",
    "        \"\"\"\n",
    "        Computes the predicted output using the current weights.\n",
    "        \"\"\"\n",
    "        y_hat = X @ self.w\n",
    "        return(y_hat)\n",
    "\n",
    "    def loss(self, y, y_hat):\n",
    "        \"\"\"\n",
    "        Computes the mean sum of squared errors loss.\n",
    "        \"\"\"\n",
    "        return (1 / np.size(y)) * np.sum((y-y_hat)**2)\n",
    "\n",
    "    def loss_gradient(self, X, y, y_hat):\n",
    "        \"\"\"\n",
    "        Computes the gradient of the loss with respect to weights.\n",
    "        \"\"\"\n",
    "        return (-2 / np.size(y)) * (y - y_hat).T @ X\n",
    "\n",
    "    def fit(self, X, y):\n",
    "        \"\"\"\n",
    "        Trains the linear regression model using gradient descent.\n",
    "        \"\"\"\n",
    "        self.losses = []\n",
    "        for iteration in range(self.n_iterations):\n",
    "            y_hat = self.forward(X)\n",
    "            gradient = self.loss_gradient(X, y, y_hat)\n",
    "            self.w -= gradient * self.learning_rate\n",
    "            self.losses.append(self.loss(y, y_hat))"
   ]
  },
  {
   "cell_type": "markdown",
   "id": "8dec3d21-57cd-454a-a9d4-913209f67c37",
   "metadata": {},
   "source": [
    "### Using the Model\n",
    "\n",
    "With our model code in hand, let's see it in action. Recall that we need to make our design matrix **X** defined above. "
   ]
  },
  {
   "cell_type": "code",
   "execution_count": 20,
   "id": "e963cd8e-96a0-4d98-b03c-6c34bb885050",
   "metadata": {},
   "outputs": [],
   "source": [
    "X = np.column_stack([np.ones_like(x), x, np.sin(2 * np.pi * x)])"
   ]
  },
  {
   "cell_type": "markdown",
   "id": "41408c0b",
   "metadata": {},
   "source": [
    "Now, we just apply the model as before:"
   ]
  },
  {
   "cell_type": "code",
   "execution_count": 21,
   "id": "889f74ab-543b-4e45-9563-89cf36169b3b",
   "metadata": {},
   "outputs": [],
   "source": [
    "model = LinearRegression(X, learning_rate = 0.01, n_iterations=50)"
   ]
  },
  {
   "cell_type": "markdown",
   "id": "805921e3",
   "metadata": {},
   "source": [
    "And then train it with our `fit` function:"
   ]
  },
  {
   "cell_type": "code",
   "execution_count": 22,
   "id": "7041c802-1e7e-4544-8ac2-39d9a77989df",
   "metadata": {},
   "outputs": [],
   "source": [
    "model.fit(X, y)"
   ]
  },
  {
   "cell_type": "markdown",
   "id": "7843f9d3-226b-43d2-bb17-c73a8783ffa9",
   "metadata": {},
   "source": [
    "Let's have a look at the bias and weights of our model:"
   ]
  },
  {
   "cell_type": "code",
   "execution_count": 23,
   "id": "e2f9d5a8-113a-4e93-aaef-83f51743f8dd",
   "metadata": {},
   "outputs": [
    {
     "name": "stdout",
     "output_type": "stream",
     "text": [
      "Bias: 0.24110620019600115\n",
      "Weight 1: 2.3151106842345484\n",
      "Weight 2: 1.132552405349606\n"
     ]
    }
   ],
   "source": [
    "print('Bias:',model.w[0])\n",
    "print('Weight 1:',model.w[1])\n",
    "print('Weight 2:',model.w[2])"
   ]
  },
  {
   "cell_type": "markdown",
   "id": "15b9ae2f-2547-4f59-9693-7814881b4719",
   "metadata": {},
   "source": [
    "And see how the model performs relative to the data"
   ]
  },
  {
   "cell_type": "code",
   "execution_count": 24,
   "id": "2a45995d-9e41-4f83-aef2-e430ff2d04ec",
   "metadata": {},
   "outputs": [],
   "source": [
    "# compute the model predictions\n",
    "y_predicted = model.forward(X)"
   ]
  },
  {
   "cell_type": "code",
   "execution_count": 25,
   "id": "9408229b-ba54-4fea-b610-414a1277c64c",
   "metadata": {},
   "outputs": [
    {
     "data": {
      "image/png": "[encoded data removed]",
      "text/plain": [
       "<Figure size 640x480 with 1 Axes>"
      ]
     },
     "metadata": {},
     "output_type": "display_data"
    }
   ],
   "source": [
    "plt.plot(x,y,'k.',label='$y_{target}$')\n",
    "plt.plot(x,y_predicted,label='$y_{predicted}$')\n",
    "plt.xlabel('x')\n",
    "plt.ylabel('y')\n",
    "plt.legend(loc=2)\n",
    "plt.show()"
   ]
  },
  {
   "cell_type": "markdown",
   "id": "d58a46ae",
   "metadata": {},
   "source": [
    "Hmm, that's curious - the line doesn't seem to fit that well... Let's take alook a the loss function and see if we have converged:"
   ]
  },
  {
   "cell_type": "code",
   "execution_count": 26,
   "id": "04863232-8b0d-4307-9420-16ca7c086897",
   "metadata": {},
   "outputs": [
    {
     "data": {
      "image/png": "[encoded data removed]",
      "text/plain": [
       "<Figure size 800x400 with 1 Axes>"
      ]
     },
     "metadata": {},
     "output_type": "display_data"
    }
   ],
   "source": [
    "plt.figure(figsize=(8,4))\n",
    "plt.plot(model.losses)\n",
    "plt.xlabel('Iterations')\n",
    "plt.ylabel('Loss')\n",
    "plt.show()"
   ]
  },
  {
   "cell_type": "markdown",
   "id": "b2016526",
   "metadata": {},
   "source": [
    "Indeed, it does seem we have converged - so what's going on?"
   ]
  },
  {
   "cell_type": "markdown",
   "id": "d0f89ddf-f873-457d-b2ae-b6c6bf2d9daa",
   "metadata": {},
   "source": [
    "## Normalizing features"
   ]
  },
  {
   "cell_type": "markdown",
   "id": "3bd73f19",
   "metadata": {},
   "source": [
    "In the above example, we fit our model to the data by taking \"steps\" in the error space toward the local minimum - but not all steps are created equal. We can get a sense for this by printing some of the values in our design matrix:\n"
   ]
  },
  {
   "cell_type": "code",
   "execution_count": 30,
   "id": "3c7bb2df",
   "metadata": {},
   "outputs": [
    {
     "name": "stdout",
     "output_type": "stream",
     "text": [
      "[[1.         0.0411     0.25537826]\n",
      " [1.         0.126      0.71153568]\n",
      " [1.         0.2027     0.95616176]\n",
      " [1.         0.2877     0.9720758 ]\n",
      " [1.         0.3699     0.7293986 ]]\n",
      "[[ 1.          9.6219     -0.69320059]\n",
      " [ 1.          9.7068     -0.96338752]\n",
      " [ 1.          9.789      -0.9701266 ]\n",
      " [ 1.          9.874      -0.71153568]\n",
      " [ 1.          9.9562     -0.2717428 ]]\n"
     ]
    }
   ],
   "source": [
    "# first few lines of X\n",
    "print(X[:5, :])\n",
    "\n",
    "# last few lines of X\n",
    "print(X[-5:, :])"
   ]
  },
  {
   "cell_type": "markdown",
   "id": "b8cc08d0",
   "metadata": {},
   "source": [
    "As we can see the range for the $x$ data is much larger than for the $\\sin(2\\pi x)$ data. When we fit our model, the steps for the slope are much bigger than the steps for the amplitude. In this case, this means that the error can be made small by getting the trend correct without minding too much about the amplitude of the seasonal cycle. \n",
    "\n",
    "This is a common problem in multiple linear regression. One way around this issue is to *standardize* the input feartures. To standardize a feature $x$, we remove its mean $\\mu$ and divide by its standard deviation $\\sigma$:\n",
    "\n",
    "$$\n",
    "z = \\frac{x - \\mu}{\\sigma}\n",
    "$$\n",
    "\n",
    "Let's standardize the features and take a look at what our standardized data looks like:"
   ]
  },
  {
   "cell_type": "code",
   "execution_count": 33,
   "id": "8ea64ae7",
   "metadata": {},
   "outputs": [
    {
     "data": {
      "image/png": "[encoded data removed]",
      "text/plain": [
       "<Figure size 800x400 with 1 Axes>"
      ]
     },
     "metadata": {},
     "output_type": "display_data"
    }
   ],
   "source": [
    "# standardize the features\n",
    "x_standardized = (x - np.mean(x)) / np.std(x)\n",
    "y_standardized = (y - np.mean(y)) / np.std(y)\n",
    "sin_x_standardized = (np.sin(x * 2 * np.pi) - np.mean(np.sin(x * 2 * np.pi))) / np.std(np.sin(x * 2 * np.pi))\n",
    "\n",
    "# plot the standardized data\n",
    "plt.figure(figsize=(8,4))\n",
    "plt.plot(x_standardized,y_standardized,'k.')\n",
    "plt.xlabel('Standardized x')\n",
    "plt.ylabel('Standardized y')\n",
    "plt.show()\n"
   ]
  },
  {
   "cell_type": "markdown",
   "id": "3714ad5b",
   "metadata": {},
   "source": [
    "As we can see, the data now has zero mean and the magnitudes of both are equal. Let's fit a model to our standardized data. Since we have standardized our data, our model no longer has an intercept, so we may write our model as\n",
    "\n",
    "$$\n",
    "\\hat{z} = \\beta_1 \\chi_1 + \\beta_2 \\chi_2\n",
    "$$\n",
    "\n",
    "where here, we are using $\\hat{z}$ to represent the model fit to our standardized data, the $\\beta$'s to represent the slopes, and the $\\chi$'s to represent the standardized input features. Since we wrote our model to be generalizable, we just need to form the design matrix for this model and this use our code to fit it:"
   ]
  },
  {
   "cell_type": "code",
   "execution_count": 35,
   "id": "4b851545",
   "metadata": {},
   "outputs": [],
   "source": [
    "# create the design matrix with standardized features\n",
    "X_standardized = np.column_stack([x_standardized, sin_x_standardized])"
   ]
  },
  {
   "cell_type": "code",
   "execution_count": 41,
   "id": "2f108d31",
   "metadata": {},
   "outputs": [],
   "source": [
    "# fit the model to the standardized data\n",
    "n_iterations = 50\n",
    "model_standardized = LinearRegression(X_standardized, 0.01, n_iterations)\n",
    "model_standardized.fit(X_standardized, y_standardized)"
   ]
  },
  {
   "cell_type": "markdown",
   "id": "3ec24402",
   "metadata": {},
   "source": [
    "We can double check our model has converged by looking at the loss function:"
   ]
  },
  {
   "cell_type": "code",
   "execution_count": 42,
   "id": "552cd7a4",
   "metadata": {},
   "outputs": [
    {
     "data": {
      "image/png": "[encoded data removed]",
      "text/plain": [
       "<Figure size 800x400 with 1 Axes>"
      ]
     },
     "metadata": {},
     "output_type": "display_data"
    }
   ],
   "source": [
    "plt.figure(figsize=(8,4))\n",
    "plt.plot(np.arange(n_iterations), model.losses)\n",
    "plt.xlabel('Iterations')\n",
    "plt.ylabel('Loss')\n",
    "plt.show()"
   ]
  },
  {
   "cell_type": "markdown",
   "id": "5b74179a",
   "metadata": {},
   "source": [
    "and by plotting it:"
   ]
  },
  {
   "cell_type": "code",
   "execution_count": 43,
   "id": "c5568aaa",
   "metadata": {},
   "outputs": [
    {
     "ename": "ValueError",
     "evalue": "matmul: Input operand 1 has a mismatch in its core dimension 0, with gufunc signature (n?,k),(k,m?)->(n?,m?) (size 3 is different from 2)",
     "output_type": "error",
     "traceback": [
      "\u001b[31m---------------------------------------------------------------------------\u001b[39m",
      "\u001b[31mValueError\u001b[39m                                Traceback (most recent call last)",
      "\u001b[36mCell\u001b[39m\u001b[36m \u001b[39m\u001b[32mIn[43]\u001b[39m\u001b[32m, line 3\u001b[39m\n\u001b[32m      1\u001b[39m plt.figure(figsize=(\u001b[32m8\u001b[39m,\u001b[32m4\u001b[39m))\n\u001b[32m      2\u001b[39m plt.plot(x_standardized,y_standardized,\u001b[33m'\u001b[39m\u001b[33mk.\u001b[39m\u001b[33m'\u001b[39m)\n\u001b[32m----> \u001b[39m\u001b[32m3\u001b[39m plt.plot(x_standardized, model.forward(X_standardized), label=\u001b[33m'\u001b[39m\u001b[33mPredicted\u001b[39m\u001b[33m'\u001b[39m)\n\u001b[32m      4\u001b[39m plt.xlabel(\u001b[33m'\u001b[39m\u001b[33mStandardized x\u001b[39m\u001b[33m'\u001b[39m)\n\u001b[32m      5\u001b[39m plt.ylabel(\u001b[33m'\u001b[39m\u001b[33mStandardized y\u001b[39m\u001b[33m'\u001b[39m)\n",
      "\u001b[36mCell\u001b[39m\u001b[36m \u001b[39m\u001b[32mIn[19]\u001b[39m\u001b[32m, line 37\u001b[39m, in \u001b[36mLinearRegression.forward\u001b[39m\u001b[34m(self, X)\u001b[39m\n\u001b[32m     33\u001b[39m \u001b[38;5;28;01mdef\u001b[39;00m\u001b[38;5;250m \u001b[39m\u001b[34mforward\u001b[39m(\u001b[38;5;28mself\u001b[39m, X):\n\u001b[32m     34\u001b[39m \u001b[38;5;250m    \u001b[39m\u001b[33;03m\"\"\"\u001b[39;00m\n\u001b[32m     35\u001b[39m \u001b[33;03m    Computes the predicted output using the current weights.\u001b[39;00m\n\u001b[32m     36\u001b[39m \u001b[33;03m    \"\"\"\u001b[39;00m\n\u001b[32m---> \u001b[39m\u001b[32m37\u001b[39m     y_hat = X @ \u001b[38;5;28mself\u001b[39m.w\n\u001b[32m     38\u001b[39m     \u001b[38;5;28;01mreturn\u001b[39;00m(y_hat)\n",
      "\u001b[31mValueError\u001b[39m: matmul: Input operand 1 has a mismatch in its core dimension 0, with gufunc signature (n?,k),(k,m?)->(n?,m?) (size 3 is different from 2)"
     ]
    },
    {
     "data": {
      "image/png": "[encoded data removed]",
      "text/plain": [
       "<Figure size 800x400 with 1 Axes>"
      ]
     },
     "metadata": {},
     "output_type": "display_data"
    }
   ],
   "source": [
    "plt.figure(figsize=(8,4))\n",
    "plt.plot(x_standardized,y_standardized,'k.')\n",
    "plt.plot(x_standardized, model.forward(X_standardized), label='Predicted')\n",
    "plt.xlabel('Standardized x')\n",
    "plt.ylabel('Standardized y')\n",
    "plt.show()"
   ]
  },
  {
   "cell_type": "markdown",
   "id": "b8f4ba08",
   "metadata": {},
   "source": [
    "This looks pretty good! But... it doesn't exactly tell us what we wanted to know. We haven't actual got an answer to our question yet. We need to convert this information back to the unstandardized data."
   ]
  },
  {
   "cell_type": "markdown",
   "id": "1ddbd6da",
   "metadata": {},
   "source": [
    "If we fill in some of our definitions, we see  that\n",
    "\n",
    "$$\n",
    "\\begin{align*}\n",
    "\\hat{z} &= \\beta_1 \\chi_1 + \\beta_2 \\chi_2\\\\\n",
    "\\Longrightarrow \\frac{y-\\mu_y}{\\sigma_y} &= \\beta_1 \\left( \\frac{x_1 - \\mu_{x_1}}{\\sigma_{x_1}}  \\right) + \\beta_2 \\left( \\frac{x_2 - \\mu_{x_2}}{\\sigma_{x_2}}  \\right)\n",
    "\\end{align*}\n",
    "$$\n",
    "\n",
    "With a little rearranging, we see\n",
    "\n",
    "$$\n",
    "\\begin{align*}\n",
    "y &= \\mu_y + \\beta_1 \\sigma_y \\left( \\frac{x_1 - \\mu_{x_1}}{\\sigma_{x_1}}  \\right) + \\beta_2 \\sigma_y \\left( \\frac{x_2 - \\mu_{x_2}}{\\sigma_{x_2}}  \\right) \\\\\n",
    "&= \\left( \\mu_y - \\frac{\\beta_1 \\sigma_y }{\\sigma_{x_1}} - \\frac{\\beta_2 \\sigma_y }{\\sigma_{x_2}}\\right) +  \\left(\\frac{\\beta_1 \\sigma_y}{\\sigma_{x_1}}\\right) x_1  + \\left(\\frac{\\beta_2 \\sigma_y}{\\sigma_{x_2}}\\right) x_2\n",
    "\\end{align*}\n",
    "$$\n",
    "\n",
    "By comparing the above line with our original model,\n",
    "\n",
    "$$\n",
    "y = b + w_1 x_1 + w_2 x_2\n",
    "$$\n",
    "\n",
    "we can see recover some formulas to convert the coefficients for our standardized data back to coefficients for our non-standardized data:\n",
    "\n",
    "$$\n",
    "\\begin{align*}\n",
    "b &= \\\\\n",
    "w_1 &= \\\\\n",
    "w_2 &= \n",
    "\\end{align*}\n",
    "$$\n",
    "\n",
    "Let's compute these coefficients:"
   ]
  },
  {
   "cell_type": "code",
   "execution_count": null,
   "id": "62273686",
   "metadata": {},
   "outputs": [],
   "source": [
    "# get the standardized weights\n",
    "w_1_standardized = model.w[0]\n",
    "w_2_standardized = model.w[1]\n",
    "print('Standardized Weight 1:', w_1_standardized)\n",
    "print('Standardized Weight 2:', w_2_standardized)\n",
    "\n",
    "# convert the standardized weights back to the original scale\n",
    "\n",
    "print('Weight 1 (original scale):', w1)\n",
    "print('Weight 2 (original scale):', w2) \n",
    "print('Bias (original scale):', b)"
   ]
  },
  {
   "cell_type": "markdown",
   "id": "7563b285",
   "metadata": {},
   "source": [
    "With the coefficients in hand, let's check out our model performance:"
   ]
  },
  {
   "cell_type": "code",
   "execution_count": null,
   "id": "e26cb595",
   "metadata": {},
   "outputs": [],
   "source": [
    "plt.figure(figsize=(8,4))\n",
    "plt.plot(x,y,'k.',label='$y_{target}$')\n",
    "\n",
    "# plot the predicted outputs with the new weights\n",
    "\n",
    "\n",
    "plt.xlabel('x (years since 2010)')\n",
    "plt.ylabel('y (CO$_2$ concentration relative to 2010, ppm)')\n",
    "plt.legend(loc=2)\n",
    "plt.show()"
   ]
  },
  {
   "cell_type": "markdown",
   "id": "9093739a",
   "metadata": {},
   "source": [
    "Looks much better! Using this simple model we've now estimated not only the trend in the data, but also it's seasonal cycle:"
   ]
  },
  {
   "cell_type": "code",
   "execution_count": null,
   "id": "c8d0c6fb",
   "metadata": {},
   "outputs": [],
   "source": [
    "print(f'Trend in carbon dioxide concentration: {w1:.2f} ppm per year')\n",
    "print(f'Seasonal cycle amplitude: {w2:.2f} ppm')"
   ]
  },
  {
   "cell_type": "markdown",
   "id": "381f37f9",
   "metadata": {},
   "source": [
    "## Other Applications\n",
    "\n",
    "This framework is turns out to be quite flexible. Let see how this works by taking a look back at the full dataset - the one we subsetted in the past several notebooks:"
   ]
  },
  {
   "cell_type": "code",
   "execution_count": null,
   "id": "06ef1cd4",
   "metadata": {},
   "outputs": [],
   "source": [
    "# define x and y for the whole dataset\n",
    "x = np.array(df.iloc[:,3])\n",
    "y = np.array(df.iloc[:,4])\n",
    "\n",
    "# remove the first values\n",
    "x = x-x[0]\n",
    "y = y-y[0]"
   ]
  },
  {
   "cell_type": "code",
   "execution_count": null,
   "id": "390af6bd",
   "metadata": {},
   "outputs": [],
   "source": [
    "plt.figure(figsize=(8,4))\n",
    "plt.plot(x,y,'k.')\n",
    "plt.xlabel('x (year)')\n",
    "plt.ylabel('y (CO$_2$ concentration, ppm)')\n",
    "plt.show()"
   ]
  },
  {
   "cell_type": "markdown",
   "id": "3d63faf1",
   "metadata": {},
   "source": [
    "### CO$_2$ growth as a simple linear model"
   ]
  },
  {
   "cell_type": "markdown",
   "id": "849bb30f",
   "metadata": {},
   "source": [
    "As we can see in the plot above, there is an \"acceleration\" term. That is, the CO$_2$ concentration is not increasing a constant rate, but the rate of increase is also growing as well. If we try to fit a model with only one input feature (in other words, a line) then the fit isn't going to be consistent with our data:"
   ]
  },
  {
   "cell_type": "code",
   "execution_count": null,
   "id": "b2235848",
   "metadata": {},
   "outputs": [],
   "source": [
    "# make a design matrix for the simple linear regression case\n"
   ]
  },
  {
   "cell_type": "code",
   "execution_count": null,
   "id": "89092799",
   "metadata": {},
   "outputs": [],
   "source": [
    "# fit a simple linear model to the standardized data\n"
   ]
  },
  {
   "cell_type": "code",
   "execution_count": null,
   "id": "0c1fe11f",
   "metadata": {},
   "outputs": [],
   "source": [
    "# plot the model on the data\n",
    "plt.figure(figsize=(8,4))\n",
    "plt.plot(x,y,'k.',label='$y_{target}$')\n",
    "\n",
    "# plot the simple linear model\n",
    "\n",
    "\n",
    "plt.xlabel('x (years since 2010)')\n",
    "plt.ylabel('y (CO$_2$ concentration relative to 2010, ppm)')\n",
    "plt.legend(loc=2)\n",
    "plt.show()"
   ]
  },
  {
   "cell_type": "markdown",
   "id": "0baf252d",
   "metadata": {},
   "source": [
    "As we can see, our model doesn't match our data very well. Just to double check, we can ensure that the model has converged:"
   ]
  },
  {
   "cell_type": "code",
   "execution_count": null,
   "id": "c194a04d",
   "metadata": {},
   "outputs": [],
   "source": [
    "# plot the losses to ensure the model has converged\n",
    "plt.figure(figsize=(8,4))\n",
    "plt.plot(simple_linear_model.losses)\n",
    "plt.xlabel('Iterations')\n",
    "plt.ylabel('Loss')\n",
    "plt.show()"
   ]
  },
  {
   "cell_type": "markdown",
   "id": "b923c648",
   "metadata": {},
   "source": [
    "Indeed, it looks like the model has converged. How can we expand our model a bit to include the acceleration term?"
   ]
  },
  {
   "cell_type": "markdown",
   "id": "670035c1",
   "metadata": {},
   "source": [
    "### CO$_2$ growth as a quadratic model\n",
    "\n",
    "It turns out, we already have all of the tools we need to fit a quadratic model of the form \n",
    "\n",
    "$$\n",
    "\\hat{y} = b + w_1x + w_2x^2\n",
    "$$\n",
    "\n",
    "In this case, the $x^2$ term will function just like our $\\sin$ term from above. First, we standardize our features:"
   ]
  },
  {
   "cell_type": "code",
   "execution_count": null,
   "id": "84bfe032",
   "metadata": {},
   "outputs": [],
   "source": [
    "# standardize the features\n",
    "x_standardized = (x - np.mean(x)) / np.std(x)\n",
    "x_squared_standardized = (x**2 - np.mean(x**2)) / np.std(x**2)\n",
    "y_standardized = (y - np.mean(y)) / np.std(y)\n"
   ]
  },
  {
   "cell_type": "markdown",
   "id": "b6326e67",
   "metadata": {},
   "source": [
    "Then, we fit our model to the standardized data:"
   ]
  },
  {
   "cell_type": "code",
   "execution_count": null,
   "id": "403a74ec",
   "metadata": {},
   "outputs": [],
   "source": [
    "# fit the model to the standardized data\n"
   ]
  },
  {
   "cell_type": "markdown",
   "id": "978503d2",
   "metadata": {},
   "source": [
    "And we use our existing equations to recover our coefficients:"
   ]
  },
  {
   "cell_type": "code",
   "execution_count": null,
   "id": "fea35685",
   "metadata": {},
   "outputs": [],
   "source": [
    "# get the standardized weights\n",
    "w_1_standardized = model.w[0]\n",
    "w_2_standardized = model.w[1]\n",
    "print('Standardized Weight 1:', w_1_standardized)\n",
    "print('Standardized Weight 2:', w_2_standardized)\n",
    "\n",
    "# convert the standardized weights back to the original scale\n",
    "w1 = w_1_standardized * np.std(y) / np.std(x)\n",
    "w2 = w_2_standardized * np.std(y) / np.std(x**2)\n",
    "b = np.mean(y) - w1 * np.mean(x) - w2 * np.mean(x**2)\n",
    "print('Weight 1 (original scale):', w1)\n",
    "print('Weight 2 (original scale):', w2) \n",
    "print('Bias (original scale):', b)"
   ]
  },
  {
   "cell_type": "markdown",
   "id": "2e993882",
   "metadata": {},
   "source": [
    "Let's see how we did:"
   ]
  },
  {
   "cell_type": "code",
   "execution_count": null,
   "id": "4beefac9",
   "metadata": {},
   "outputs": [],
   "source": [
    "plt.figure(figsize=(8,4))\n",
    "plt.plot(x,y,'k.',label='$y_{target}$')\n",
    "\n",
    "# plot the model prediction of the data\n",
    "\n",
    "plt.xlabel('x (years since 2010)')\n",
    "plt.ylabel('y (CO$_2$ concentration relative to 2010, ppm)')\n",
    "plt.legend(loc=2)\n",
    "plt.show()"
   ]
  },
  {
   "cell_type": "markdown",
   "id": "422e506d",
   "metadata": {},
   "source": [
    "As always, we should peek at our losses to ensure we have converged:"
   ]
  },
  {
   "cell_type": "code",
   "execution_count": null,
   "id": "7584eac2",
   "metadata": {},
   "outputs": [],
   "source": [
    "# plot the losses to ensure the model has converged\n",
    "plt.figure(figsize=(8,4))\n",
    "plt.plot(model.losses)\n",
    "plt.xlabel('Iterations')\n",
    "plt.ylabel('Loss')\n",
    "plt.show()"
   ]
  },
  {
   "cell_type": "markdown",
   "id": "e093f342",
   "metadata": {},
   "source": [
    "Looks like we converged!"
   ]
  },
  {
   "cell_type": "markdown",
   "id": "2b790547",
   "metadata": {},
   "source": [
    "**Key Takeaways**\n",
    "\n",
    "1. The linear regression model we constructed in the previous notebook can be easily adapted to multiple regression problems.\n",
    "2. Standardizing features is essential for improving model fit to data, even if the iterative model has converged.\n",
    "3. After a model has been fit to standardized data, the coefficients of the model for the non-standardized data need to be recovered."
   ]
  }
 ],
 "metadata": {
  "kernelspec": {
   "display_name": "Python 3 (ipykernel)",
   "language": "python",
   "name": "python3"
  },
  "language_info": {
   "codemirror_mode": {
    "name": "ipython",
    "version": 3
   },
   "file_extension": ".py",
   "mimetype": "text/x-python",
   "name": "python",
   "nbconvert_exporter": "python",
   "pygments_lexer": "ipython3",
   "version": "3.12.11"
  }
 },
 "nbformat": 4,
 "nbformat_minor": 5
}
