{
 "cells": [
  {
   "cell_type": "markdown",
   "id": "5edfd277-8f73-4ee7-a000-6a10d3c2541f",
   "metadata": {},
   "source": [
    "# Problem of the Week 7"
   ]
  },
  {
   "cell_type": "markdown",
   "id": "23f44593-daf7-4b70-8b40-2b4c12884893",
   "metadata": {},
   "source": [
    "Name: Ryan Rajaie\n",
    "\n",
    "Student ID: 016105024\n",
    "\n",
    "Date: 10/5/2025\n",
    "\n",
    "**Motivation**\n",
    "\n",
    "This week's Problem of the Week is focused on comparing and contrasting the single- and multi-layer perceptrons.\n",
    "\n",
    "**Completing this assignment**\n",
    "\n",
    "Fill in the coding and markdown cells as indicated below. When you are happy with you responses, restart the kernel and run all cells to produce a clean rendition of your notebook. Then, create a PDF of your notebook and upload both documents (PDF and ipynb file) to Canvas."
   ]
  },
  {
   "cell_type": "code",
   "execution_count": 1,
   "id": "e595157b-13cb-4fcb-a3e3-fd0a47645e80",
   "metadata": {},
   "outputs": [],
   "source": [
    "import os\n",
    "import numpy as np\n",
    "import matplotlib.pyplot as plt\n",
    "import pandas as pd\n",
    "import struct"
   ]
  },
  {
   "cell_type": "markdown",
   "id": "f5c45cbb-b1b7-4cf9-8823-fe2f255f434c",
   "metadata": {},
   "source": [
    "## Problem 7.1\n",
    "\n",
    "In class, we created two classes - one for the single layer perceptron and one for the multi layer perceptron. Copy those classes over here."
   ]
  },
  {
   "cell_type": "code",
   "execution_count": 2,
   "id": "3c49bac8-db6d-4176-84c9-b9dbc7ef77d1",
   "metadata": {},
   "outputs": [],
   "source": [
    "# copy the single layer perceptron code here\n",
    "class SingleLayerPerceptron:\n",
    "\n",
    "    def __init__(self, num_features, num_classes, random_seed=123):\n",
    "\n",
    "        self.num_classes = num_classes\n",
    "        generator = np.random.RandomState(random_seed)\n",
    "        self.weight_out = generator.normal(loc=0.0, scale=0.1, size=(num_classes, num_features))\n",
    "        self.bias_out = np.zeros(num_classes)\n",
    "\n",
    "    def int_to_onehot(self, y, num_labels):\n",
    "        ary = np.zeros((y.shape[0], num_labels))\n",
    "        for i, val in enumerate(y):\n",
    "            ary[i, val] = 1\n",
    "        return(ary)\n",
    "\n",
    "    def sigmoid(self,z):\n",
    "        return (1/(1+np.exp(-z)))\n",
    "\n",
    "    # EDIT: define the forward function\n",
    "    def forward(self, x):\n",
    "        z = np.dot(x, self.weight_out.T)+self.bias_out\n",
    "        p = self.sigmoid(z)\n",
    "        return(p)\n",
    "\n",
    "\n",
    "    def predict(self, X):\n",
    "        probs = self.forward(X)\n",
    "        return np.argmax(probs, axis=1)\n",
    "\n",
    "    # EDIT: define the backward function\n",
    "    def backward(self, x, p, y):\n",
    "        y_onehot = self.int_to_onehot(y, self.num_classes)\n",
    "\n",
    "        d_L__d_p = -2*(y_onehot - p)/y.shape[0]\n",
    "\n",
    "        d_p__d_z = p*(1-p)\n",
    "\n",
    "        D = d_L__d_p * d_p__d_z\n",
    "\n",
    "        d_L__d_w = np.dot(D.T, x)\n",
    "\n",
    "        d_L__d_b = np.dot(D.T, np.ones((x.shape[0],)))\n",
    "\n",
    "        return(d_L__d_w, d_L__d_b)\n",
    "\n",
    "\n",
    "    def mse_loss(targets, probs, num_labels=10):\n",
    "        onehot_targets = int_to_onehot(targets, num_labels)\n",
    "        err = np.mean((onehot_targets - probs)**2)\n",
    "        return(err)\n",
    "\n",
    "    def compute_mse_and_acc(self, X, y, num_labels=10):\n",
    "        probs = self.forward(X)\n",
    "        predicted_labels = np.argmax(probs,axis=1)\n",
    "        onehot_targets =self.int_to_onehot(y, num_labels)\n",
    "        loss = np.mean((onehot_targets - probs)**2)\n",
    "        acc = np.sum(predicted_labels == y)/len(y)\n",
    "        return(loss, acc)\n",
    "\n",
    "    def train(self,X_train, Y_train, X_test, Y_test, num_epochs, learning_rate=0.1):\n",
    "        train_losses = []\n",
    "        test_losses = []\n",
    "        train_accs = []\n",
    "        test_accs = []\n",
    "        for e in range(num_epochs):\n",
    "            a_out = self.forward(X_train)\n",
    "\n",
    "            # EDIT: comput the gradients and update the weights and biases\n",
    "            d_L__d_w, d_L__d_b = self.backward(X_train, a_out, Y_train)\n",
    "            self.weight_out -= d_L__d_w * learning_rate\n",
    "            self.bias_out -= d_L__d_b * learning_rate\n",
    "\n",
    "            train_loss, train_acc = self.compute_mse_and_acc(X_train, Y_train)\n",
    "            train_losses.append(train_loss)\n",
    "            train_accs.append(train_acc)\n",
    "\n",
    "            test_loss, test_acc = self.compute_mse_and_acc(X_test, Y_test)\n",
    "            test_losses.append(test_loss)\n",
    "            test_accs.append(test_acc)\n",
    "        return(train_losses, train_accs, test_losses, test_accs)"
   ]
  },
  {
   "cell_type": "code",
   "execution_count": 3,
   "id": "ad973628-0e61-4914-8179-fd5c9b515ec7",
   "metadata": {},
   "outputs": [],
   "source": [
    "# copy the multilayer perceptron code here\n",
    "class MultiLayerPerceptron:\n",
    "\n",
    "    def __init__(self, num_features, num_hidden, num_classes, random_seed=123):\n",
    "\n",
    "        self.num_classes = num_classes\n",
    "\n",
    "        rng = np.random.RandomState(random_seed)\n",
    "\n",
    "        # first layer weights and biases\n",
    "        self.weight_h = rng.normal(loc=0.0, scale=0.1, size=(num_hidden, num_features))\n",
    "        self.bias_h = np.zeros(num_hidden)\n",
    "\n",
    "        # second layer weights and biases\n",
    "        self.weight_out = rng.normal(loc=0.0, scale=0.1, size=(num_classes, num_hidden))\n",
    "        self.bias_out = np.zeros(num_classes)\n",
    "\n",
    "    def int_to_onehot(self, y, num_labels):\n",
    "        ary = np.zeros((y.shape[0], num_labels))\n",
    "        for i, val in enumerate(y):\n",
    "            ary[i, val] = 1\n",
    "        return(ary)\n",
    "\n",
    "    def sigmoid(self,z):\n",
    "        return (1/(1+np.exp(-z)))\n",
    "\n",
    "    def forward(self, x):\n",
    "        # enter code here to implement the forward method\n",
    "        zeta = np.dot(x, self.weight_h.T) + self.bias_h\n",
    "        h = self.sigmoid(zeta)\n",
    "        \n",
    "        z = np.dot(h, self.weight_out.T) + self.bias_out\n",
    "        p = self.sigmoid(z)\n",
    "\n",
    "        return(h, p)\n",
    "\n",
    "    def predict(self, X):\n",
    "        _, probs = self.forward(X)\n",
    "        return np.argmax(probs, axis=1)\n",
    "\n",
    "    def backward(self, x, h, p, y):\n",
    "\n",
    "        # encode the labels with one-hot encoding\n",
    "        y_onehot = self.int_to_onehot(y, self.num_classes)\n",
    "\n",
    "        # enter code here to implement the backward method\n",
    "        D2 = (-2 / y.shape[0] * (y_onehot - p) * p * (1 - p))\n",
    "        d_L__d_w2 = np.dot(D2.T, h)\n",
    "        d_L__d_b2 = np.dot(D2.T, np.ones_like(y))\n",
    "\n",
    "        D1 = np.dot(D2, self.weight_out) * h * (1 - h)\n",
    "        d_L__d_w1 = np.dot(D1.T, x)\n",
    "        d_L__d_b1 = np.dot(D1.T, np.ones_like(y))\n",
    "        \n",
    "        return(d_L__d_w2, d_L__d_b2, d_L__d_w1, d_L__d_b1)\n",
    "\n",
    "    def mse_loss(targets, probs, num_labels=10):\n",
    "        onehot_targets = int_to_onehot(targets, num_labels)\n",
    "        err = np.mean((onehot_targets - probs)**2)\n",
    "        return(err)\n",
    "\n",
    "    def compute_mse_and_acc(self, X, y, num_labels=10):\n",
    "        _, probs = self.forward(X)\n",
    "        predicted_labels = np.argmax(probs,axis=1)\n",
    "        onehot_targets =self.int_to_onehot(y, num_labels)\n",
    "        loss = np.mean((onehot_targets - probs)**2)\n",
    "        acc = np.sum(predicted_labels == y)/len(y)\n",
    "        return(loss, acc)\n",
    "\n",
    "    def train(self,X_train, Y_train, X_test, Y_test, num_epochs, learning_rate=0.1):\n",
    "        train_losses = []\n",
    "        test_losses = []\n",
    "        train_accs = []\n",
    "        test_accs = []\n",
    "        for e in range(num_epochs):\n",
    "\n",
    "            # compute the forward method\n",
    "            h, p = self.forward(X_train)\n",
    "\n",
    "            # compute the backward method\n",
    "            d_L__d_w2, d_L__d_b2, d_L__d_w1, d_L__d_b1 = self.backward(X_train, h, p, Y_train)\n",
    "            \n",
    "            # update the weights and the biases\n",
    "            self.weight_out -= learning_rate * d_L__d_w2\n",
    "            self.bias_out   -= learning_rate * d_L__d_b2\n",
    "            self.weight_h   -= learning_rate * d_L__d_w1\n",
    "            self.bias_h     -= learning_rate * d_L__d_b1\n",
    "\n",
    "            train_loss, train_acc = self.compute_mse_and_acc(X_train, Y_train)\n",
    "            train_losses.append(train_loss)\n",
    "            train_accs.append(train_acc)\n",
    "\n",
    "            test_loss, test_acc = self.compute_mse_and_acc(X_test, Y_test)\n",
    "            test_losses.append(test_loss)\n",
    "            test_accs.append(test_acc)\n",
    "        return(train_losses, train_accs, test_losses, test_accs)"
   ]
  },
  {
   "cell_type": "markdown",
   "id": "52e6cb95-5a81-4c28-8398-dfef7b88fc2d",
   "metadata": {},
   "source": [
    "## Problem 7.2\n",
    "\n",
    "In class, we introduced the MNIST hand-written image database. Read in the data here and prepare it for use in your Perceptron code."
   ]
  },
  {
   "cell_type": "code",
   "execution_count": 4,
   "id": "4c56aaad-a529-4450-af40-a7d54a0009ea",
   "metadata": {},
   "outputs": [],
   "source": [
    "def read_mnist_images(subset='train'):\n",
    "    if subset=='train':\n",
    "        prefix = 'train-'\n",
    "    else:\n",
    "        prefix = 't10k-'\n",
    "        \n",
    "    with open(os.path.join('MNIST',prefix+'images.idx3-ubyte'), 'rb') as f:\n",
    "        # unpack header\n",
    "        _, num_images, num_rows, num_cols = struct.unpack('>IIII', f.read(16))\n",
    "        \n",
    "        # read image data\n",
    "        image_data = f.read(num_images * num_rows * num_cols)\n",
    "        images = np.frombuffer(image_data, dtype=np.uint8)\n",
    "        images = images.reshape(num_images, num_rows, num_cols)\n",
    "\n",
    "    with open(os.path.join('MNIST',prefix+'labels.idx1-ubyte'), 'rb') as f:\n",
    "        # unpack header\n",
    "        _, num_labels = struct.unpack('>II', f.read(8))\n",
    "\n",
    "        # read label data\n",
    "        labels = np.frombuffer(f.read(), dtype=np.uint8)\n",
    "\n",
    "        \n",
    "    return images, labels"
   ]
  },
  {
   "cell_type": "markdown",
   "id": "05ba01f2-c676-4810-bea1-d4ce69e8b73a",
   "metadata": {},
   "source": [
    "## Problem 7.3\n",
    "\n",
    "Generate models for each of the perceptrons, and train each model with an equivalent learning rate and number of iterations."
   ]
  },
  {
   "cell_type": "code",
   "execution_count": 6,
   "id": "bb554a19-88fa-492c-a178-1787e40b09b9",
   "metadata": {},
   "outputs": [],
   "source": [
    "# port in data\n",
    "train_images, train_labels = read_mnist_images(subset='train')\n",
    "test_images, test_labels = read_mnist_images(subset='test')\n",
    "\n",
    "X_train = train_images.reshape(-1, 784) / 255.0\n",
    "X_test = test_images.reshape(-1, 784) / 255.0\n",
    "Y_train = train_labels\n",
    "Y_test = test_labels"
   ]
  },
  {
   "cell_type": "code",
   "execution_count": 12,
   "id": "901c72f1-334a-4b25-8a8e-d493cfe016d4",
   "metadata": {},
   "outputs": [],
   "source": [
    "# create an slp object and train it\n",
    "slp = SingleLayerPerceptron(784, 10)\n",
    "train_losses_slp, train_accs_slp, test_losses_slp, test_accs_slp = slp.train(X_train, Y_train, X_test, Y_test, 1000, learning_rate = 0.5)"
   ]
  },
  {
   "cell_type": "code",
   "execution_count": 13,
   "id": "85b75f04-617c-4f57-9f42-9f8ada6935e1",
   "metadata": {},
   "outputs": [],
   "source": [
    "# create an mlp object and train it\n",
    "mlp = MultiLayerPerceptron(784, 50, 10)\n",
    "train_losses_mlp, train_accs_mlp, test_losses_mlp, test_accs_mlp = mlp.train(X_train, Y_train, X_test, Y_test, 1000, learning_rate = 0.5)"
   ]
  },
  {
   "cell_type": "markdown",
   "id": "a5402456-f400-427c-aab5-dd7681f2ff32",
   "metadata": {},
   "source": [
    "## Problem 7.4\n",
    "\n",
    "Generate two plots to compare and contrast the losses and accuracies of the perceptrons. The left plot should show two lines - one for the test losses of the single layer perceptron (blue) and one for the multi layer perceptron (orange). The right plot should be identical, but it should show the accuracies. Be sure to add a legend to your plot and label your axes."
   ]
  },
  {
   "cell_type": "code",
   "execution_count": 17,
   "id": "ea65d5e9-62a7-40fb-beb8-caf07ba39a84",
   "metadata": {},
   "outputs": [
    {
     "data": {
      "image/png": "[encoded data removed]",
      "text/plain": [
       "<Figure size 1200x500 with 2 Axes>"
      ]
     },
     "metadata": {},
     "output_type": "display_data"
    }
   ],
   "source": [
    "# create your plots here\n",
    "plt.figure(figsize=(12,5))\n",
    "\n",
    "plt.subplot(1,2,1)\n",
    "plt.plot(test_losses_slp, label='Test SLP')\n",
    "plt.plot(test_losses_mlp, label='Test MLP')\n",
    "plt.ylabel('Loss')\n",
    "plt.xlabel('Epochs')\n",
    "plt.legend()\n",
    "\n",
    "plt.subplot(1,2,2)\n",
    "plt.plot(test_accs_slp, label='Test SLP')\n",
    "plt.plot(test_accs_mlp, label='Test MLP')\n",
    "plt.ylabel('Accuracy')\n",
    "plt.xlabel('Epochs')\n",
    "plt.legend()\n",
    "plt.show()"
   ]
  },
  {
   "cell_type": "markdown",
   "id": "3ea76c43-89bd-49dd-bdde-d7e51696f121",
   "metadata": {},
   "source": [
    "## Problem 7.5\n",
    "\n",
    "Based on the plot you've made above, answer the following questions:\n",
    "1. What evidence do you see in yout plots to convince you that your model has converged?\n",
    "2. Which model converged quicker?\n",
    "3. Which model is more accurate? Explain why this model is more accurate (3 sentences max)."
   ]
  },
  {
   "cell_type": "markdown",
   "id": "e4dae54f-b9ce-48b2-bb69-6d1220e6a3ad",
   "metadata": {
    "jp-MarkdownHeadingCollapsed": true
   },
   "source": [
    "1. The plots have a pretty clean exponential drop-off in the amount of loss being lost. They are gaining less and less accuracy with each iteration.\n",
    "2. The SLP converged quicker, it began to curb around 100 iterations, versus the MLP where it curbed at about 300 or so. \n",
    "3. It depends, at around 1000 iterations the MLP begins to edge out to the SLP. Before that, however, the SLP is more accurate. MLP models are far more complex with far more variables and weights so it takes a longer time to train them, which is why. I expect, however, based on the current accuracy and loss trajectories that the MLP will eventually be noticeably more accurate than the SLP. "
   ]
  }
 ],
 "metadata": {
  "kernelspec": {
   "display_name": "cs171",
   "language": "python",
   "name": "cs171"
  },
  "language_info": {
   "codemirror_mode": {
    "name": "ipython",
    "version": 3
   },
   "file_extension": ".py",
   "mimetype": "text/x-python",
   "name": "python",
   "nbconvert_exporter": "python",
   "pygments_lexer": "ipython3",
   "version": "3.12.11"
  }
 },
 "nbformat": 4,
 "nbformat_minor": 5
}
