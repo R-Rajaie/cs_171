{
 "cells": [
  {
   "cell_type": "markdown",
   "id": "5edfd277-8f73-4ee7-a000-6a10d3c2541f",
   "metadata": {},
   "source": [
    "# Problem of the Week 7"
   ]
  },
  {
   "cell_type": "markdown",
   "id": "23f44593-daf7-4b70-8b40-2b4c12884893",
   "metadata": {},
   "source": [
    "Name: \n",
    "\n",
    "Student ID: \n",
    "\n",
    "Date: \n",
    "\n",
    "**Motivation**\n",
    "\n",
    "This week's Problem of the Week is focused on comparing and contrasting the single- and multi-layer perceptrons.\n",
    "\n",
    "**Completing this assignment**\n",
    "\n",
    "Fill in the coding and markdown cells as indicated below. When you are happy with you responses, restart the kernel and run all cells to produce a clean rendition of your notebook. Then, create a PDF of your notebook and upload both documents (PDF and ipynb file) to Canvas."
   ]
  },
  {
   "cell_type": "code",
   "execution_count": null,
   "id": "e595157b-13cb-4fcb-a3e3-fd0a47645e80",
   "metadata": {},
   "outputs": [],
   "source": [
    "import os\n",
    "import numpy as np\n",
    "import matplotlib.pyplot as plt\n",
    "import pandas as pd\n",
    "import struct"
   ]
  },
  {
   "cell_type": "markdown",
   "id": "f5c45cbb-b1b7-4cf9-8823-fe2f255f434c",
   "metadata": {},
   "source": [
    "## Problem 7.1\n",
    "\n",
    "In class, we created two classes - one for the single layer perceptron and one for the multi layer perceptron. Copy those classes over here."
   ]
  },
  {
   "cell_type": "code",
   "execution_count": null,
   "id": "3c49bac8-db6d-4176-84c9-b9dbc7ef77d1",
   "metadata": {},
   "outputs": [],
   "source": [
    "# copy the single layer perceptron code here\n"
   ]
  },
  {
   "cell_type": "code",
   "execution_count": null,
   "id": "ad973628-0e61-4914-8179-fd5c9b515ec7",
   "metadata": {},
   "outputs": [],
   "source": [
    "# copy the multilayer perceptron code here\n"
   ]
  },
  {
   "cell_type": "markdown",
   "id": "52e6cb95-5a81-4c28-8398-dfef7b88fc2d",
   "metadata": {},
   "source": [
    "## Problem 7.2\n",
    "\n",
    "In class, we introduced the MNIST hand-written image database. Read in the data here and prepare it for use in your Perceptron code."
   ]
  },
  {
   "cell_type": "code",
   "execution_count": null,
   "id": "4c56aaad-a529-4450-af40-a7d54a0009ea",
   "metadata": {},
   "outputs": [],
   "source": [
    "# load in the MNIST hand-written image database\n"
   ]
  },
  {
   "cell_type": "markdown",
   "id": "05ba01f2-c676-4810-bea1-d4ce69e8b73a",
   "metadata": {},
   "source": [
    "## Problem 7.3\n",
    "\n",
    "Generate models for each of the perceptrons, and train each model with an equivalent learning rate and number of iterations."
   ]
  },
  {
   "cell_type": "code",
   "execution_count": null,
   "id": "901c72f1-334a-4b25-8a8e-d493cfe016d4",
   "metadata": {},
   "outputs": [],
   "source": [
    "# create an slp object and train it\n"
   ]
  },
  {
   "cell_type": "code",
   "execution_count": null,
   "id": "85b75f04-617c-4f57-9f42-9f8ada6935e1",
   "metadata": {},
   "outputs": [],
   "source": [
    "# create an mlp object and train it\n"
   ]
  },
  {
   "cell_type": "markdown",
   "id": "a5402456-f400-427c-aab5-dd7681f2ff32",
   "metadata": {},
   "source": [
    "## Problem 7.4\n",
    "\n",
    "Generate two plots to compare and contrast the losses and accuracies of the perceptrons. The left plot should show two lines - one for the test losses of the single layer perceptron (blue) and one for the multi layer perceptron (orange). The right plot should be identical, but it should show the accuracies. Be sure to add a legend to your plot and label your axes."
   ]
  },
  {
   "cell_type": "code",
   "execution_count": null,
   "id": "ea65d5e9-62a7-40fb-beb8-caf07ba39a84",
   "metadata": {},
   "outputs": [],
   "source": [
    "# create your plots here\n"
   ]
  },
  {
   "cell_type": "markdown",
   "id": "3ea76c43-89bd-49dd-bdde-d7e51696f121",
   "metadata": {},
   "source": [
    "## Problem 7.5\n",
    "\n",
    "Based on the plot you've made above, answer the following questions:\n",
    "1. What evidence do you see in yout plots to convince you that your model has converged?\n",
    "2. Which model converged quicker?\n",
    "3. Which model is more accurate? Explain why this model is more accurate (3 sentences max)."
   ]
  },
  {
   "cell_type": "code",
   "execution_count": null,
   "id": "a7b055b0-03fa-4330-b7f9-0496cc83d5a2",
   "metadata": {},
   "outputs": [],
   "source": [
    "# change this cell to a markdown cell and enter your answers here\n"
   ]
  }
 ],
 "metadata": {
  "kernelspec": {
   "display_name": "cs171",
   "language": "python",
   "name": "cs171"
  },
  "language_info": {
   "codemirror_mode": {
    "name": "ipython",
    "version": 3
   },
   "file_extension": ".py",
   "mimetype": "text/x-python",
   "name": "python",
   "nbconvert_exporter": "python",
   "pygments_lexer": "ipython3",
   "version": "3.12.10"
  }
 },
 "nbformat": 4,
 "nbformat_minor": 5
}
