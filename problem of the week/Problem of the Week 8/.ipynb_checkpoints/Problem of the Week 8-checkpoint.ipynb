{
 "cells": [
  {
   "cell_type": "markdown",
   "id": "5edfd277-8f73-4ee7-a000-6a10d3c2541f",
   "metadata": {},
   "source": [
    "# Problem of the Week 8"
   ]
  },
  {
   "cell_type": "markdown",
   "id": "23f44593-daf7-4b70-8b40-2b4c12884893",
   "metadata": {},
   "source": [
    "Name: Ryan Rajaie\n",
    "\n",
    "Student ID: 016105024\n",
    "\n",
    "Date: 10/12/2025\n",
    "\n",
    "**Motivation**\n",
    "\n",
    "This week's Problem of the Week is focused on comparing and contrasting the problems we addressed with our multi-layer perceptrons and our convolutional neutral networks.\n",
    "\n",
    "**Completing this assignment**\n",
    "\n",
    "Fill in the cell as indicated below. When you are happy with you response, produce a clean rendition of your notebook. Then, create a PDF of your notebook and upload both documents (PDF and ipynb file) to Canvas."
   ]
  },
  {
   "cell_type": "markdown",
   "id": "f5c45cbb-b1b7-4cf9-8823-fe2f255f434c",
   "metadata": {},
   "source": [
    "## Problem 8.1 - Model Similarities\n",
    "\n",
    "Write 3-5 sentences explaining how the purpose of each model and the architecture of the neural networks are similar in the multilayer perceptron and CNN examples examined in class. Your response should pertain to the specific models we worked with in class, not generic statements about perceptrons and CNNs."
   ]
  },
  {
   "cell_type": "markdown",
   "id": "fce6b75e-377f-4c78-9bff-0cd18969a1b8",
   "metadata": {},
   "source": [
    "Both our CNN and the Perceptron models are supervised training neural networks designed to take in images and output labels, using a gradient algorithm to better label the given images. Both of our models feature layers that data passes through so that the model can better understand the features of the data. Both also use the same computational basics of matrix/tensor multiplications and gradient updates (even if our CNN model hides this behind a more simple PyTorch implementation). "
   ]
  },
  {
   "cell_type": "markdown",
   "id": "52e6cb95-5a81-4c28-8398-dfef7b88fc2d",
   "metadata": {},
   "source": [
    "## Problem 8.2 - Model Differences\n",
    "\n",
    "Write 3-5 sentences explaining how the multilayer perceptron and CNN examples examined in class differ. Place specific emphasis on what makes the CNN approach more ideal for this application than a multi-layer perceptron. Your response should pertain to the specific models we worked with in class, not generic statements about perceptrons and CNNs."
   ]
  },
  {
   "cell_type": "markdown",
   "id": "212736c2-10ee-4cd2-8d58-0ab3c1314226",
   "metadata": {},
   "source": [
    "Our models of course first differ in the dataset (the Perceptron model uses the MNIST number dataset while the CNN uses a dataset of unusual sea creatures...). They also differ in how they input the data. The perceptron model inputs our data with a 1 dimensional vector (by calling the reshape function on our datasets) while the CNN inputs our data with a 2D structure where we are even able to customize the kernel size and how large each of the layers are. However, in our MLP function (afaik) we can only customize starting parameters. This ability to understand the data in 2D makes the CNN far more effective at the job of learning images. Additionally, our ability to artificially \"expand\" our dataset with drop-outs and image transformations allows us to further leverage the CNN's abilities to create a more accurate model without risking overfitting (which we do in part 2 to much success). Our MLP model also uses the MSE loss function while the CNN uses a Cross-Entropy function."
   ]
  }
 ],
 "metadata": {
  "kernelspec": {
   "display_name": "cs171",
   "language": "python",
   "name": "cs171"
  },
  "language_info": {
   "codemirror_mode": {
    "name": "ipython",
    "version": 3
   },
   "file_extension": ".py",
   "mimetype": "text/x-python",
   "name": "python",
   "nbconvert_exporter": "python",
   "pygments_lexer": "ipython3",
   "version": "3.12.11"
  }
 },
 "nbformat": 4,
 "nbformat_minor": 5
}
